{
 "cells": [
  {
   "cell_type": "markdown",
   "metadata": {},
   "source": [
    "# Pest or Pathogen Spread Model (PoPS) Tutorial"
   ]
  },
  {
   "cell_type": "markdown",
   "metadata": {},
   "source": [
    "[r.pops.spread](https://grass.osgeo.org/grass7/manuals/addons/r.pops.spread.html) is a model for stochastic landscape spread of the pest and pathogens. It uses PoPS (Pest or Pathogen Spread) library. In this tutorial we will use it specifically to model the spread of Sudden Oak Death tree disease in the Rouge River-Siskiyou National Forest region of western Oregon. This tutorial uses sample dataset with\n",
    "\n",
    "* tanoak host layer (LEMMA data)\n",
    "* digital elevation model (NED)\n",
    "* orthophoto (NAIP)\n",
    "* roads, streams (USGS)\n",
    "* mapset containing weather coefficients\n"
   ]
  },
  {
   "cell_type": "markdown",
   "metadata": {},
   "source": [
    "### Download Sudden Oak Death data"
   ]
  },
  {
   "cell_type": "code",
   "execution_count": null,
   "metadata": {
    "tags": []
   },
   "outputs": [],
   "source": [
    "import requests\n",
    "import zipfile\n",
    "import io\n",
    "\n",
    "url = \"http://fatra.cnr.ncsu.edu/pops/data/PoPS_SOD_tutorial.zip\"\n",
    "\n",
    "r = requests.get(url)\n",
    "z = zipfile.ZipFile(io.BytesIO(r.content))\n",
    "z.extractall(\"../data\")"
   ]
  },
  {
   "cell_type": "markdown",
   "metadata": {},
   "source": [
    "#### Start GRASS GIS"
   ]
  },
  {
   "cell_type": "code",
   "execution_count": null,
   "metadata": {},
   "outputs": [],
   "source": [
    "import subprocess\n",
    "import sys\n",
    "\n",
    "# Ask GRASS GIS where its Python packages are.\n",
    "# FOR WINDOWS:\n",
    "# grass_call = \"grass82\"\n",
    "# shell_setting = True\n",
    "# FOR MAC/LINUX\n",
    "grass_call = \"grass\"\n",
    "shell_setting = False\n",
    "\n",
    "sys.path.append(\n",
    "    subprocess.check_output([grass_call, \"--config\", \"python_path\"], text=True, shell=shell_setting).strip()\n",
    ")\n",
    "\n",
    "# Import GRASS packages\n",
    "import grass.script as gs\n",
    "import grass.jupyter as gj\n",
    "\n",
    "# Start GRASS Session\n",
    "gj.init(\"../data\", \"PoPS_SOD_tutorial\", \"tutorial\");"
   ]
  },
  {
   "cell_type": "markdown",
   "metadata": {},
   "source": [
    "Install the PoPS add-on for GRASS GIS."
   ]
  },
  {
   "cell_type": "code",
   "execution_count": null,
   "metadata": {},
   "outputs": [],
   "source": [
    "!g.extension r.pops.spread"
   ]
  },
  {
   "cell_type": "markdown",
   "metadata": {},
   "source": [
    "## Simulation"
   ]
  },
  {
   "cell_type": "markdown",
   "metadata": {},
   "source": [
    "### Study area and preparation"
   ]
  },
  {
   "cell_type": "markdown",
   "metadata": {},
   "source": [
    "First, we will set computational region of our analyses to predefined study area:\n"
   ]
  },
  {
   "cell_type": "code",
   "execution_count": null,
   "metadata": {},
   "outputs": [],
   "source": [
    "print(gs.read_command('g.region', region='small_study_area', flags='p'))"
   ]
  },
  {
   "cell_type": "markdown",
   "metadata": {},
   "source": [
    "We use already prepared weather coefficients, represented by raster layers per each week of a simulation.\n",
    "With that, we need to prepare a text file. List and write the maps in a file using g.list:"
   ]
  },
  {
   "cell_type": "code",
   "execution_count": null,
   "metadata": {},
   "outputs": [],
   "source": [
    "gs.run_command('g.list', type='raster', pattern=\"average_weather_*\", mapset='weather', output='weather.txt')"
   ]
  },
  {
   "cell_type": "markdown",
   "metadata": {},
   "source": [
    "Let's also make a function that will make quick maps of our study area."
   ]
  },
  {
   "cell_type": "code",
   "execution_count": null,
   "metadata": {
    "tags": []
   },
   "outputs": [],
   "source": [
    "def show(raster):\n",
    "    img = gj.Map()\n",
    "    img.d_rast(map='ortho')\n",
    "    img.d_rast(map=raster, values=0, flags='i')\n",
    "    img.d_vect(map='NHDFlowline', where=\"FCODE >= 46006\", color='30:144:255')\n",
    "    img.d_vect(map='roads', where=\"FULLNAME is not NULL\", color='165:159:159', width=2)\n",
    "    img.d_barscale(at=[38.0,97.0], flags='n', style='both_ticks', segment=5, color='255:255:255', bgcolor='none')\n",
    "    return img.show()"
   ]
  },
  {
   "cell_type": "markdown",
   "metadata": {},
   "source": [
    "Let's look at initial infected tanoak trees in 2019."
   ]
  },
  {
   "cell_type": "code",
   "execution_count": null,
   "metadata": {},
   "outputs": [],
   "source": [
    "show('eu_infection_2019')"
   ]
  },
  {
   "cell_type": "markdown",
   "metadata": {},
   "source": [
    "### Single stochastic run"
   ]
  },
  {
   "cell_type": "markdown",
   "metadata": {},
   "source": [
    "Run the model using the text file created and setting the required parameters. For this analysis we used wind in NE  direction and are looking at the first 5 years of spread from the initial 2019 infection discovery.\n",
    "\n",
    "We export a result from a single stochastic simulation (with specified random seed)."
   ]
  },
  {
   "cell_type": "code",
   "execution_count": null,
   "metadata": {},
   "outputs": [],
   "source": [
    "gs.run_command('r.pops.spread', host='host', total_plants='max_host', infected='eu_infection_2019',\n",
    "               start_date='2019-01-01', end_date='2023-12-31', step_unit='week', \n",
    "               reproductive_rate=1.6, weather_coefficient_file='weather.txt',\n",
    "               natural_direction='NE', natural_dispersal_kernel='exponential',\n",
    "               natural_distance=242, natural_direction_strength=3,\n",
    "               single_series='spread_sod', output_frequency='yearly', runs=1, random_seed=1)"
   ]
  },
  {
   "cell_type": "markdown",
   "metadata": {},
   "source": [
    "We list newly created output layers representing infected trees in yeach year of the simulation and we set a custom color ramp."
   ]
  },
  {
   "cell_type": "code",
   "execution_count": null,
   "metadata": {},
   "outputs": [],
   "source": [
    "series = gs.list_strings(type='raster', pattern=\"spread_sod*\")\n",
    "gs.run_command('r.colors', map=series, rules='color_infected.txt')\n",
    "series"
   ]
  },
  {
   "cell_type": "markdown",
   "metadata": {},
   "source": [
    "By changing the index from 0 to 4 you can display the steps of the simulation. Notice the NE direction of spread."
   ]
  },
  {
   "cell_type": "code",
   "execution_count": null,
   "metadata": {},
   "outputs": [],
   "source": [
    "show(series[2]) # Change the index here"
   ]
  },
  {
   "cell_type": "markdown",
   "metadata": {},
   "source": [
    "### Multiple stochastic runs"
   ]
  },
  {
   "cell_type": "markdown",
   "metadata": {},
   "source": [
    "We can run multiple stochastic runs and aggregate the results into a probability layer (0.1 if cell was infected once in 10 runs), average layer (average number of infected trees per cell) and standard deviation layer.\n",
    "\n",
    "Here we run the process 10x and we use 2 cores for parallel processing (providing module was compiled with OpenMP support and cores are available)."
   ]
  },
  {
   "cell_type": "code",
   "execution_count": null,
   "metadata": {},
   "outputs": [],
   "source": [
    "gs.run_command('r.pops.spread', host='host', total_plants='max_host', infected='eu_infection_2019',\n",
    "               start_date='2019-01-01', end_date='2023-12-31', step_unit='week',\n",
    "               reproductive_rate=1.6, weather_coefficient_file='weather.txt',\n",
    "               natural_direction='NE', natural_dispersal_kernel='exponential',\n",
    "               natural_distance=242, natural_direction_strength=3,\n",
    "               average_series='average', probability_series='probability', stddev_series='stddev',\n",
    "               output_frequency='yearly', runs=10, nprocs=2, random_seed=1)"
   ]
  },
  {
   "cell_type": "markdown",
   "metadata": {},
   "source": [
    "Let's display the probability of infection at the end of 2019."
   ]
  },
  {
   "cell_type": "code",
   "execution_count": null,
   "metadata": {},
   "outputs": [],
   "source": [
    "probability_series = gs.list_strings(type='raster', pattern=\"probability*\")\n",
    "gs.run_command('r.colors', map=probability_series, color='magma')\n",
    "\n",
    "show(probability_series[2]) # Change the index here"
   ]
  },
  {
   "cell_type": "markdown",
   "metadata": {},
   "source": [
    "### Effect of dispersal kernel"
   ]
  },
  {
   "cell_type": "markdown",
   "metadata": {},
   "source": [
    "The choice and parametrization of dispersal kernel significantly influences the spread and should be informed by calibration. The natural dispersal kernel (required) typically represents wind dispersal, additionally, we can optionally add the anthropogenic kernel which represents more human affected spread possibly over longer distances.\n",
    "\n",
    "Each kernel is defined by type (cauchy, exponential), direction (none, N, NE, E, ...), direction strength (concentration around the direction using von mises distribution) and scale (distance).\n"
   ]
  },
  {
   "cell_type": "code",
   "execution_count": null,
   "metadata": {},
   "outputs": [],
   "source": [
    "gs.run_command('r.pops.spread', host='host', total_plants='max_host', infected='eu_infection_2019',\n",
    "               start_date='2019-01-01', end_date='2023-12-31', step_unit='week',\n",
    "               reproductive_rate=1.6, weather_coefficient_file='weather.txt',\n",
    "               natural_direction='NE', natural_dispersal_kernel='exponential',\n",
    "               natural_distance=400, natural_direction_strength=3,\n",
    "               single_series='spread_distance', output_frequency='yearly', runs=1, random_seed=1)\n",
    "distance_series = gs.list_strings(type='raster', pattern=\"spread_distance*\")\n",
    "gs.run_command('r.colors', map=distance_series, rules='color_infected.txt')"
   ]
  },
  {
   "cell_type": "markdown",
   "metadata": {},
   "source": [
    "Compare our initial run with run with increased kernel scale"
   ]
  },
  {
   "cell_type": "code",
   "execution_count": null,
   "metadata": {},
   "outputs": [],
   "source": [
    "# show(series[2]) # Change the index here\n",
    "show(distance_series[2]) # Change the index here"
   ]
  },
  {
   "cell_type": "markdown",
   "metadata": {},
   "source": [
    "We can then also change the direction to E and increase the strength of direction:"
   ]
  },
  {
   "cell_type": "code",
   "execution_count": null,
   "metadata": {},
   "outputs": [],
   "source": [
    "gs.run_command('r.pops.spread', host='host', total_plants='max_host', infected='eu_infection_2019',\n",
    "               start_date='2019-01-01', end_date='2023-12-31', step_unit='week',\n",
    "               reproductive_rate=1.6, weather_coefficient_file='weather.txt',\n",
    "               natural_direction='E', natural_dispersal_kernel='exponential',\n",
    "               natural_distance=242, natural_direction_strength=10,\n",
    "               single_series='spread_direction', output_frequency='yearly', runs=1, random_seed=1)\n",
    "direction_series = gs.list_strings(type='raster', pattern=\"spread_direction*\")\n",
    "gs.run_command('r.colors', map=direction_series, rules='color_infected.txt')"
   ]
  },
  {
   "cell_type": "code",
   "execution_count": null,
   "metadata": {},
   "outputs": [],
   "source": [
    "# show(series[2]) # Change the index here\n",
    "show(direction_series[2]) # Change the index here"
   ]
  },
  {
   "cell_type": "markdown",
   "metadata": {},
   "source": [
    "Finally, we can select a different kernel type."
   ]
  },
  {
   "cell_type": "code",
   "execution_count": null,
   "metadata": {},
   "outputs": [],
   "source": [
    "gs.run_command('r.pops.spread', host='host', total_plants='max_host', infected='eu_infection_2019',\n",
    "               start_date='2019-01-01', end_date='2023-12-31', step_unit='week',\n",
    "               reproductive_rate=1.6,  weather_coefficient_file='weather.txt',\n",
    "               natural_direction='NE', natural_dispersal_kernel='cauchy',\n",
    "               natural_distance=242, natural_direction_strength=3,\n",
    "               single_series='spread_type', output_frequency='yearly', runs=1, random_seed=1)\n",
    "disptype_series = gs.list_strings(type='raster', pattern=\"spread_type*\")\n",
    "gs.run_command('r.colors', map=disptype_series, rules='color_infected.txt')"
   ]
  },
  {
   "cell_type": "code",
   "execution_count": null,
   "metadata": {},
   "outputs": [],
   "source": [
    "# show(series[2]) # Change the index here\n",
    "show(disptype_series[2]) # Change the index here"
   ]
  },
  {
   "cell_type": "markdown",
   "metadata": {},
   "source": [
    "### Effect of reproductive rate"
   ]
  },
  {
   "cell_type": "markdown",
   "metadata": {},
   "source": [
    "Similarly to kernel, reproductive rate should be informed by calibration. In this example we double it:"
   ]
  },
  {
   "cell_type": "code",
   "execution_count": null,
   "metadata": {},
   "outputs": [],
   "source": [
    "gs.run_command('r.pops.spread', host='host', total_plants='max_host', infected='eu_infection_2019',\n",
    "               start_date='2019-01-01', end_date='2023-12-31', step_unit='week',\n",
    "               reproductive_rate=3, weather_coefficient_file='weather.txt',\n",
    "               natural_direction='NE', natural_dispersal_kernel='exponential',\n",
    "               natural_distance=242, natural_direction_strength=3,\n",
    "               single_series='spread_rate', output_frequency='yearly', runs=1, random_seed=1)\n",
    "rate_series = gs.list_strings(type='raster', pattern=\"spread_rate*\")\n",
    "gs.run_command('r.colors', map=rate_series, rules='color_infected.txt')"
   ]
  },
  {
   "cell_type": "code",
   "execution_count": null,
   "metadata": {},
   "outputs": [],
   "source": [
    "# show(series[2]) # Change the index here\n",
    "show(rate_series[2]) # Change the index here"
   ]
  },
  {
   "cell_type": "markdown",
   "metadata": {},
   "source": [
    "### Treatments"
   ]
  },
  {
   "cell_type": "markdown",
   "metadata": {},
   "source": [
    "We will treat the area by removing the host. We will develop several scenarios. First, no treatment is applied:"
   ]
  },
  {
   "cell_type": "code",
   "execution_count": null,
   "metadata": {},
   "outputs": [],
   "source": [
    "gs.run_command('r.pops.spread', host='host', total_plants='max_host', infected='eu_infection_2019',\n",
    "               start_date='2019-01-01', end_date='2023-12-31', step_unit='week',\n",
    "               reproductive_rate=1.6, weather_coefficient_file='weather.txt',\n",
    "               natural_direction='NE', natural_dispersal_kernel='exponential',\n",
    "               natural_distance=242, natural_direction_strength=3,\n",
    "               probability_series='probability', output_frequency='yearly', runs=10, nprocs=2, random_seed=1)\n",
    "probability_series = gs.list_strings(type='raster', pattern=\"probability*\")\n",
    "gs.run_command('r.colors', map=probability_series, color='magma')"
   ]
  },
  {
   "cell_type": "markdown",
   "metadata": {},
   "source": [
    "We treat the initial infection and a buffer around it. The treatments are applied at the end of the year."
   ]
  },
  {
   "cell_type": "code",
   "execution_count": null,
   "metadata": {},
   "outputs": [],
   "source": [
    "gs.run_command('r.buffer', flags='z', input='eu_infection_2019', output='buffer_A', distances=200)\n",
    "gs.mapcalc(\"treatment_A = if (isnull(buffer_A), 0, 1)\")\n",
    "\n",
    "show('treatment_A')"
   ]
  },
  {
   "cell_type": "code",
   "execution_count": null,
   "metadata": {},
   "outputs": [],
   "source": [
    "gs.run_command('r.pops.spread', host='host', total_plants='max_host', infected='eu_infection_2019',\n",
    "               start_date='2019-01-01', end_date='2023-12-31', step_unit='week',\n",
    "               reproductive_rate=1.6, weather_coefficient_file='weather.txt',\n",
    "               natural_direction='NE', natural_dispersal_kernel='exponential',\n",
    "               natural_distance=242, natural_direction_strength=3,\n",
    "               probability_series='probtreatmentA', output_frequency='yearly', runs=10, nprocs=2, random_seed=1,\n",
    "               treatments='treatment_A', treatment_date='2019-12-31',\n",
    "               treatment_length=0, treatment_application='ratio_to_all')\n",
    "probabilityA_series = gs.list_strings(type='raster', pattern=\"probtreatmentA*\")\n",
    "gs.run_command('r.colors', map=probabilityA_series, color='magma')\n",
    "\n",
    "show(probabilityA_series[2]) # Change the index here"
   ]
  },
  {
   "cell_type": "markdown",
   "metadata": {},
   "source": [
    "Here we increase the buffer size:"
   ]
  },
  {
   "cell_type": "code",
   "execution_count": null,
   "metadata": {},
   "outputs": [],
   "source": [
    "gs.run_command('r.buffer', flags='z', input='eu_infection_2019', output='buffer_B', distances=500)\n",
    "gs.mapcalc(\"treatment_B = if (isnull(buffer_B), 0, 1)\")\n",
    "\n",
    "show('treatment_B')"
   ]
  },
  {
   "cell_type": "code",
   "execution_count": null,
   "metadata": {},
   "outputs": [],
   "source": [
    "gs.run_command('r.pops.spread', host='host', total_plants='max_host', infected='eu_infection_2019',\n",
    "               start_date='2019-01-01', end_date='2023-12-31', step_unit='week',\n",
    "               reproductive_rate=1.6, weather_coefficient_file='weather.txt',\n",
    "               natural_direction='NE', natural_dispersal_kernel='exponential',\n",
    "               natural_distance=242, natural_direction_strength=3,\n",
    "               probability_series='probtreatmentB', output_frequency='yearly', runs=10, nprocs=2, random_seed=1,\n",
    "               treatments='treatment_B', treatment_date='2019-12-31', treatment_length=0, treatment_application='ratio_to_all')\n",
    "probabilityB_series = gs.list_strings(type='raster', pattern=\"probtreatmentB*\")\n",
    "gs.run_command('r.colors', map=probabilityB_series, color='magma')\n",
    "\n",
    "show(probabilityB_series[2]) # Change the index here"
   ]
  },
  {
   "cell_type": "markdown",
   "metadata": {},
   "source": [
    "Now we create a large 1km wide barrier in an attempt to stop the spread. For this scenario, we assume the treatment is not 100% effective, but rather only 75% of host is removed."
   ]
  },
  {
   "cell_type": "code",
   "execution_count": null,
   "metadata": {},
   "outputs": [],
   "source": [
    "gs.mapcalc(\"treatment_C = if (y() > 4687000 && y() < 4688000, 0.75, 0 )\")\n",
    "\n",
    "show('treatment_C')"
   ]
  },
  {
   "cell_type": "markdown",
   "metadata": {},
   "source": [
    "We will see that for the final year of our simulation, the disease spread in several stochastic runs over the barrier:"
   ]
  },
  {
   "cell_type": "code",
   "execution_count": null,
   "metadata": {},
   "outputs": [],
   "source": [
    "gs.run_command('r.pops.spread', host='host', total_plants='max_host', infected='eu_infection_2019',\n",
    "               start_date='2019-01-01', end_date='2023-12-31', step_unit='week',\n",
    "               reproductive_rate=1.6, weather_coefficient_file='weather.txt',\n",
    "               natural_direction='NE', natural_dispersal_kernel='exponential',\n",
    "               natural_distance=242, natural_direction_strength=3,\n",
    "               probability_series='probtreatmentC', output_frequency='yearly', runs=10, nprocs=2, random_seed=1,\n",
    "               treatments='treatment_C', treatment_date='2019-12-31', treatment_length=0,\n",
    "               treatment_application='ratio_to_all')\n",
    "probabilityC_series = gs.list_strings(type='raster', pattern=\"probtreatmentC*\")\n",
    "gs.run_command('r.colors', map=probabilityC_series, color='magma')\n",
    "\n",
    "show(probabilityC_series[4]) # Change the index here"
   ]
  },
  {
   "cell_type": "markdown",
   "metadata": {},
   "source": [
    "Finally, we manage with the 200m buffer treatments A in 2019 and with the barrier in 2021:"
   ]
  },
  {
   "cell_type": "code",
   "execution_count": null,
   "metadata": {},
   "outputs": [],
   "source": [
    "gs.run_command('r.pops.spread', host='host', total_plants='max_host', infected='eu_infection_2019',\n",
    "               start_date='2019-01-01', end_date='2023-12-31', step_unit='week',\n",
    "               reproductive_rate=1.6, weather_coefficient_file='weather.txt',\n",
    "               natural_direction='NE', natural_dispersal_kernel='exponential',\n",
    "               natural_distance=242, natural_direction_strength=3,\n",
    "               probability_series='probtreatmentAC', output_frequency='yearly', runs=10, nprocs=2, random_seed=1,\n",
    "               treatments='treatment_A,treatment_C,', treatment_date='2019-12-31,2021-12-31',\n",
    "               treatment_length=[0,0], treatment_application='ratio_to_all')\n",
    "probabilityAC_series = gs.list_strings(type='raster', pattern=\"probtreatmentAC*\")\n",
    "gs.run_command('r.colors', map=probabilityAC_series, color='magma')\n",
    "\n",
    "show(probabilityAC_series[4]) # Change the index here"
   ]
  },
  {
   "cell_type": "code",
   "execution_count": null,
   "metadata": {},
   "outputs": [],
   "source": []
  }
 ],
 "metadata": {
  "kernelspec": {
   "display_name": "Python 3 (ipykernel)",
   "language": "python",
   "name": "python3"
  },
  "language_info": {
   "codemirror_mode": {
    "name": "ipython",
    "version": 3
   },
   "file_extension": ".py",
   "mimetype": "text/x-python",
   "name": "python",
   "nbconvert_exporter": "python",
   "pygments_lexer": "ipython3",
   "version": "3.9.5"
  }
 },
 "nbformat": 4,
 "nbformat_minor": 4
}
