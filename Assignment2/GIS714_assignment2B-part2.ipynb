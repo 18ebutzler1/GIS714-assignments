{
 "cells": [
  {
   "cell_type": "markdown",
   "id": "63da2047",
   "metadata": {},
   "source": [
    "\n",
    "#### NCSU GIS 714: Geospatial Computation and Simulations\n",
    "\n",
    "## Data simulation: Part 2\n",
    "\n",
    "Contents:\n",
    "* Start GRASS GIS\n",
    "* Random Fractal Surfaces\n",
    "* Random Point Data\n",
    "\n",
    "Additional Resources:\n",
    "    \n",
    "* [\n",
    "GRASS GIS overview and manual](http://grass.osgeo.org/grass74/manuals/index.html)\n",
    "    \n",
    "* [GRASS book](http://www.grassbook.org/)\n",
    "\n",
    "Tip: While executing this notebook, you can launch the GUI in the command line interface with `g.gui`. As you create rasters here, they will appear in the GUI where you can render them, view other layers, etc."
   ]
  },
  {
   "cell_type": "markdown",
   "id": "f50815e6",
   "metadata": {},
   "source": [
    "#### Start GRASS GIS"
   ]
  },
  {
   "cell_type": "code",
   "execution_count": 3,
   "id": "69c021c4",
   "metadata": {},
   "outputs": [],
   "source": [
    "import os\n",
    "import subprocess\n",
    "import sys\n",
    "\n",
    "# Ask GRASS GIS where its Python packages are.\n",
    "sys.path.append(\n",
    "    subprocess.check_output([\"grass80\", \"--config\", \"python_path\"], text=True, shell=True).strip()\n",
    ")\n",
    "\n",
    "# Import GRASS packages\n",
    "import grass.script as gs\n",
    "import grass.jupyter as gj\n",
    "\n",
    "# Start GRASS Session\n",
    "gj.init(\"../../../..grassdata\", \"nc_spm_08_grass7\", \"HW2_data_simulation\")\n",
    "\n",
    "# Set Region\n",
    "gs.run_command(\"g.region\", region=\"rural_1m\")"
   ]
  },
  {
   "cell_type": "markdown",
   "id": "577c438d-c7cf-4331-98d0-22b12bffa1cf",
   "metadata": {
    "tags": []
   },
   "source": [
    "### Random fractal surfaces\n",
    "\n",
    "First we generate two series of surfaces with dimension 2.9 to 2.01. The series shows creation of a fractal surface.\n",
    "Register the series in temporal framework, assign the rasters a common color table and create an animation\n",
    "(feel free to select larger n or a different dimension).\n",
    "First, we'll create a list of the dimension 2.9 surfaces:"
   ]
  },
  {
   "cell_type": "code",
   "execution_count": 43,
   "id": "b6b3e07e-e75c-41bb-8af0-748d8f36563d",
   "metadata": {
    "tags": []
   },
   "outputs": [],
   "source": [
    "fractal_dem290_series = \"\"\"fractal_dem_d290.1|1001\n",
    "fractal_dem_d290.2|1002\n",
    "fractal_dem_d290.3|1003\n",
    "fractal_dem_d290.4|1004\n",
    "fractal_dem_d290.5|1005\n",
    "fractal_dem_d290.6|1006\n",
    "fractal_dem_d290.7|1007\n",
    "fractal_dem_d290.8|1008\n",
    "fractal_dem_d290.9|1009\"\"\""
   ]
  },
  {
   "cell_type": "markdown",
   "id": "0558a466-1fa7-4855-a84b-d70076a7fe39",
   "metadata": {
    "tags": []
   },
   "source": [
    "and a similar one for the dimension 2.01 series:"
   ]
  },
  {
   "cell_type": "code",
   "execution_count": 84,
   "id": "b2d26868-6b07-4a84-b699-0605f69acc09",
   "metadata": {
    "tags": []
   },
   "outputs": [],
   "source": [
    "fractal_dem201_series = \"\"\"fractal_dem_d201.1|1001\n",
    "fractal_dem_d201.2|1002\n",
    "fractal_dem_d201.3|1003\n",
    "fractal_dem_d201.4|1004\n",
    "fractal_dem_d201.5|1005\n",
    "fractal_dem_d201.6|1006\n",
    "fractal_dem_d201.7|1007\n",
    "fractal_dem_d201.8|1008\n",
    "fractal_dem_d201.9|1009\"\"\""
   ]
  },
  {
   "cell_type": "markdown",
   "id": "671772d5-3627-409a-8847-45ffcee00db5",
   "metadata": {
    "tags": []
   },
   "source": [
    "Next, we generate the fractal series, register them and visualize, change color table, and run simple analytics.\n",
    "We'll run watershed analysis on the final surfaces."
   ]
  },
  {
   "cell_type": "markdown",
   "id": "a5a865f3-4036-4381-a0be-4731cb6c47ec",
   "metadata": {},
   "source": [
    "#### *Question 1*\n",
    "Create a fractal surface with `r.surf.fractal` to create a raster named `fractal_dem_d290` with dimension 2.9 and 9 intermediate images. Use `r.info` to find the minimun and maximum values of the surface."
   ]
  },
  {
   "cell_type": "code",
   "execution_count": 76,
   "id": "5952a3d3-5bc5-4c83-9f7d-ccf13470902b",
   "metadata": {
    "collapsed": true,
    "jupyter": {
     "outputs_hidden": true
    },
    "tags": []
   },
   "outputs": [
    {
     "name": "stdout",
     "output_type": "stream",
     "text": [
      " +----------------------------------------------------------------------------+\n",
      " | Map:      fractal_dem_d290               Date: Wed Dec 08 13:54:44 2021    |\n",
      " | Mapset:   HW2_data_simulation            Login of Creator: caitl           |\n",
      " | Location: nc_spm_08_grass7                                                 |\n",
      " | DataBase: C:\\Users\\caitl\\Documents\\grassdata                               |\n",
      " | Title:                                                                     |\n",
      " | Timestamp: none                                                            |\n",
      " |----------------------------------------------------------------------------|\n",
      " |                                                                            |\n",
      " |   Type of Map:  raster               Number of Categories: 0               |\n",
      " |   Data Type:    DCELL                Band reference: (none)                |\n",
      " |   Rows:         750                                                        |\n",
      " |   Columns:      700                                                        |\n",
      " |   Total Cells:  525000                                                     |\n",
      " |        Projection: Lambert Conformal Conic                                 |\n",
      " |            N:     220750    S:     220000   Res:     1                     |\n",
      " |            E:     639000    W:     638300   Res:     1                     |\n",
      " |   Range of data:    min = -1996.92763649776  max = 1993.47566060994        |\n",
      " |                                                                            |\n",
      " |   Data Description:                                                        |\n",
      " |    generated by r.surf.fractal                                             |\n",
      " |                                                                            |\n",
      " |   Comments:                                                                |\n",
      " |    r.surf.fractal output=\"fractal_dem_d290\" dimension=2.9 number=9         |\n",
      " |                                                                            |\n",
      " +----------------------------------------------------------------------------+\n",
      "\n",
      "\n"
     ]
    }
   ],
   "source": [
    "### YOUR CODE HERE\n",
    "\n",
    "# Answer\n",
    "gs.run_command(\"r.surf.fractal\", out=\"fractal_dem_d290\",dim=\"2.9\", n=\"9\")\n",
    "print(gs.read_command(\"r.info\", map=\"fractal_dem_d290\"))"
   ]
  },
  {
   "cell_type": "markdown",
   "id": "5d9138de-e6fb-4761-9881-df1c946012b9",
   "metadata": {},
   "source": [
    "Now, we'll register each of the intermediate images as a space time raster dataset and compute a few simple statistics."
   ]
  },
  {
   "cell_type": "code",
   "execution_count": 77,
   "id": "c20b6c72-d6bf-440b-80b0-f698117c698d",
   "metadata": {
    "collapsed": true,
    "jupyter": {
     "outputs_hidden": true
    },
    "tags": []
   },
   "outputs": [
    {
     "name": "stdout",
     "output_type": "stream",
     "text": [
      "name|mapset|start_time|end_time\n",
      "fractal_dem_d290.1|HW2_data_simulation|1001|None\n",
      "fractal_dem_d290.2|HW2_data_simulation|1002|None\n",
      "fractal_dem_d290.3|HW2_data_simulation|1003|None\n",
      "fractal_dem_d290.4|HW2_data_simulation|1004|None\n",
      "fractal_dem_d290.5|HW2_data_simulation|1005|None\n",
      "fractal_dem_d290.6|HW2_data_simulation|1006|None\n",
      "fractal_dem_d290.7|HW2_data_simulation|1007|None\n",
      "fractal_dem_d290.8|HW2_data_simulation|1008|None\n",
      "fractal_dem_d290.9|HW2_data_simulation|1009|None\n",
      "\n"
     ]
    }
   ],
   "source": [
    "gs.run_command(\"t.create\", output=\"fractal_dem_290\", type=\"strds\", temporaltype=\"relative\", \n",
    "               title=\"Fractal DEMs with d=2.90\", description=\"Generated data\")\n",
    "\n",
    "# FIND A BETTER SOLUTION HERE: How do we pass a string from python instead of a file to t.register? SO FRUSTRATED THIS DOESN'T WORK?!\n",
    "#gs.write_command(\"t.register\", input=\"fractal_dem_290\", type=\"raster\", file=\"-\", stdin=fractal_dem290_series, unit=\"years\")\n",
    "\n",
    "# Tempoary Workaround: create txt file in same directory series names\n",
    "gs.run_command(\"t.register\", input=\"fractal_dem_290\", type=\"raster\", file=\"fractal_dem290_series.txt\", unit=\"years\")\n",
    "\n",
    "print(gs.read_command(\"t.rast.list\", input=\"fractal_dem_290\"))"
   ]
  },
  {
   "cell_type": "code",
   "execution_count": 78,
   "id": "8fb11228-142c-4cd4-90ef-40d9da79388a",
   "metadata": {},
   "outputs": [
    {
     "name": "stdout",
     "output_type": "stream",
     "text": [
      "['fractal_dem_d290.1', 'fractal_dem_d290.2', 'fractal_dem_d290.3', 'fractal_dem_d290.4', 'fractal_dem_d290.5', 'fractal_dem_d290.6', 'fractal_dem_d290.7', 'fractal_dem_d290.8', 'fractal_dem_d290.9']\n"
     ]
    }
   ],
   "source": [
    "rastlist = gs.read_command(\"t.rast.list\", input=\"fractal_dem_290\")\n",
    "rastlist = str(rastlist)\n",
    "rastlist = rastlist.split(\"\\r\\n\")\n",
    "\n",
    "names=[]\n",
    "\n",
    "for line in rastlist[1:-1]:\n",
    "    line = line.split(\"|\")\n",
    "    names.append(line[0])\n",
    "print(names)"
   ]
  },
  {
   "cell_type": "code",
   "execution_count": 88,
   "id": "80f4daa7-4a07-49b0-b780-3269be23d366",
   "metadata": {},
   "outputs": [
    {
     "data": {
      "text/html": [
       "<img src=\"image.gif\"/>"
      ],
      "text/plain": [
       "<IPython.core.display.Image object>"
      ]
     },
     "execution_count": 88,
     "metadata": {},
     "output_type": "execute_result"
    }
   ],
   "source": [
    "gs.run_command(\"t.rast.colors\", input=\"fractal_dem_290\", co=\"elevation\")\n",
    "\n",
    "filenames=[]\n",
    "for name in names:\n",
    "    filename=\"{}.png\".format(name)\n",
    "    filenames.append(filename)\n",
    "    img = gj.GrassRenderer(filename=filename)\n",
    "    img.d_rast(map=name)\n",
    "\n",
    "\n",
    "# https://stackoverflow.com/questions/753190/programmatically-generate-video-or-animated-gif-in-python\n",
    "from PIL import Image\n",
    "\n",
    "# filepaths\n",
    "fp_out = \"image.gif\"\n",
    "\n",
    "# https://pillow.readthedocs.io/en/stable/handbook/image-file-formats.html#gif\n",
    "img, *imgs = [Image.open(f) for f in sorted(filenames)]\n",
    "img.save(fp=fp_out, format='GIF', append_images=imgs,\n",
    "         save_all=True, duration=500, loop=0)\n",
    "    \n",
    "from IPython.display import Image\n",
    "Image(url='image.gif')  \n",
    "    "
   ]
  },
  {
   "cell_type": "code",
   "execution_count": 83,
   "id": "4170df8a-9d7e-4b5c-8c72-eb30b1f4036c",
   "metadata": {
    "collapsed": true,
    "jupyter": {
     "outputs_hidden": true
    },
    "tags": []
   },
   "outputs": [
    {
     "name": "stdout",
     "output_type": "stream",
     "text": [
      "id|start|end|mean|min|max|mean_of_abs|stddev|variance|coeff_var|sum|null_cells|cells|non_null_cells\n",
      "fractal_dem_d290.1@HW2_data_simulation|1001|None|-28.9745386452122|-1579.77657526412|1400.86701875217|317.51873317571|398.458484333811|158769.163737598|-1375.20217047409|-15211632.7887364|0|525000|525000\n",
      "fractal_dem_d290.2@HW2_data_simulation|1002|None|-28.8940583232225|-1702.09387319681|1639.41727513369|335.375489674691|420.174954263505|176546.992190339|-1454.19154887566|-15169380.6196918|0|525000|525000\n",
      "fractal_dem_d290.3@HW2_data_simulation|1003|None|-28.864172598602|-1713.32912037242|1736.11104483667|344.070529251117|430.955455551783|185722.604669845|-1493.04628109331|-15153690.6142661|0|525000|525000\n",
      "fractal_dem_d290.4@HW2_data_simulation|1004|None|-28.8534848984462|-1836.21551854953|1798.64059644284|349.55115732787|437.703795075601|191584.612223583|-1516.98762425461|-15148079.5716842|0|525000|525000\n",
      "fractal_dem_d290.5@HW2_data_simulation|1005|None|-28.856021549554|-1907.85538408617|1807.77045704245|353.640082782882|442.825840590437|196094.725094627|-1534.60462257411|-15149411.3135159|0|525000|525000\n",
      "fractal_dem_d290.6@HW2_data_simulation|1006|None|-28.85303084167|-1897.52693529747|1816.82854435319|356.775698335151|446.745634748933|199581.662167227|-1548.34907015638|-15147841.1918768|0|525000|525000\n",
      "fractal_dem_d290.7@HW2_data_simulation|1007|None|-28.8557533173329|-1954.65478959649|1862.22093329776|359.305418321205|449.914729009197|202423.263379419|-1559.18552553936|-15149270.4915998|0|525000|525000\n",
      "fractal_dem_d290.8@HW2_data_simulation|1008|None|-28.8513984304977|-1933.45935317017|1927.29798968566|361.47538213593|452.573926100905|204823.158586387|-1568.63774624701|-15146984.1760113|0|525000|525000\n",
      "fractal_dem_d290.9@HW2_data_simulation|1009|None|-28.8517932189731|-1960.84474014423|1929.13010833146|363.235542262372|454.820675347226|206861.846723307|-1576.40349040119|-15147191.4399609|0|525000|525000\n",
      "\n"
     ]
    }
   ],
   "source": [
    "# Get some simple univariate statistics\n",
    "print(gs.read_command(\"t.rast.univar\", input=\"fractal_dem_290\"))"
   ]
  },
  {
   "cell_type": "markdown",
   "id": "6bb0209f-78e3-4054-947b-30132194d790",
   "metadata": {},
   "source": [
    "#### *Question 2*\n",
    "Repeat the process above but for dimension = 2.01. Compute and compare the flow accumulations and drainage basins for both dimensions (2.9 and 2.01). How are they different?"
   ]
  },
  {
   "cell_type": "markdown",
   "id": "54570b2a-184d-4c61-bb00-ec6862f4234f",
   "metadata": {
    "tags": []
   },
   "source": [
    "Your Answer Here.\n",
    "\n",
    "##### Answer:\n",
    "\n",
    "Same as above but then run and compare:\n",
    "\n",
    "`r.watershed -a fractal_dem_d290 thresh=15000 accum=f290_accum_15K drain=f290_draindir_15K basin=f290_basin_15K`\n",
    "\n",
    "`r.watershed -a fractal_dem_d201 thresh=15000 accum=f201_accum_15K drain=f201_draindir_15K basin=f201_basin_15K`"
   ]
  },
  {
   "cell_type": "markdown",
   "id": "0852ce1a-2f22-4a94-9e14-a3c238389603",
   "metadata": {
    "tags": []
   },
   "source": [
    "### Surfaces with Fractal Noise\n",
    "\n",
    "#### *Question 3*\n",
    "Let's return to the DEMs with stocastic noise that we created in part 1.\n",
    "\n",
    "Say the lidar error is +/- 30 cm. Rescale the fractal surface to [-0.3,0.3] and add to the `elev_lid792_1m` DEM as a simulated noise. Also compute the flow accumation, drainage direction and basins with a threshold of 15000 (similar to part 1). \n",
    "\n",
    "The water flow pattern may represent flow over rough surface, where the roughness is represented in the DEM (e.g. as a grass cover) rather than a constant value (e.g. Mannings coefficient)."
   ]
  },
  {
   "cell_type": "markdown",
   "id": "202abda2-a66f-4dd0-a9b8-17124a0b1700",
   "metadata": {
    "tags": []
   },
   "source": [
    "Your Answer Here.\n",
    "\n",
    "#### Answer:\n",
    "```\n",
    "r.univar fractal_dem_d290\n",
    "r.mapcalc \"elev_noisefractal = elev_lid792_1m +0.6*(fractal_dem_d290-50.9649)/3754.7\"\n",
    "r.watershed -a elev_noisefractal thresh=15000 accum=_accum_15K_noisefrac drain=draindir_15K_noisefrac basin=basin_15K_noisefrac\n",
    "```"
   ]
  },
  {
   "cell_type": "markdown",
   "id": "98800cee-7468-4dab-9963-71e2b4b77627",
   "metadata": {},
   "source": [
    "### Comparing stochastic noise to real LiDAR sensor noise"
   ]
  },
  {
   "cell_type": "markdown",
   "id": "9afb07c1-4a89-4c02-8a3d-99e5d88586dc",
   "metadata": {},
   "source": [
    "In addition to the lidar-derived, bare-earth DEM, we have the original lidar point data, `elev_lid792_bepts`. Next, let's compute the elevation surface from point data with different tension parameters and compare the impact on flow modeling."
   ]
  },
  {
   "cell_type": "code",
   "execution_count": 95,
   "id": "06cb5a9f-2e61-4c91-a301-1153ae63dd6e",
   "metadata": {
    "tags": []
   },
   "outputs": [],
   "source": [
    "gs.run_command(\"g.region\", raster=\"elev_lid792_1m\", flags=\"p\")\n",
    "\n",
    "# First, use the default tension (40)\n",
    "gs.run_command(\"v.surf.rst\", input=\"elev_lid792_bepts\", elev=\"elev_lid_default\", npmin=120) \n",
    "\n",
    "# Higher Tension\n",
    "gs.run_command(\"v.surf.rst\", input=\"elev_lid792_bepts\", elev=\"elev_lid_t120\", npmin=120, ten=120)\n",
    "\n",
    "# Compute flow accumulation, drainage direction and basins for comparison to DEMs with stochastic noise\n",
    "gs.run_command(\"r.watershed\", elevation=\"elev_lid_default\", threshold=5000, accumulation=\"accum_5K_liddef\", drainage=\"draindir_5K_liddef\",\n",
    "               basin=\"basin_5K_liddef\", flags=\"a\")\n",
    "\n",
    "gs.run_command(\"r.watershed\", elevation=\"elev_lid_t120\", threshold=5000, accumulation=\"accum_5K_lidt120\", drainage=\"draindir_5K_lidt120\",\n",
    "               basin=\"basin_5K_lidt120\", flags=\"a\")"
   ]
  },
  {
   "cell_type": "markdown",
   "id": "eb439009-f228-4719-82cd-4a54572e86e8",
   "metadata": {
    "tags": []
   },
   "source": [
    "#### *Question 4*\n",
    "\n",
    "Compare the drainage patterns. Which of the surfaces with simulated noise (uniform, gaussian, spatially dependent gaussian and fractal) produce the flow pattern closest to the surface with noise from lidar point cloud (ten=120)? "
   ]
  },
  {
   "cell_type": "markdown",
   "id": "b2cef91a-35bb-488d-b712-46b195da3302",
   "metadata": {
    "tags": []
   },
   "source": [
    "###  Random point data \n",
    "\n",
    "In this example, we analyze how errors in point position can influence viewshed analysis. First, install r.viewshed.cva addon:"
   ]
  },
  {
   "cell_type": "code",
   "execution_count": null,
   "id": "cf6aa3df-acec-4e12-8e17-6640effe21eb",
   "metadata": {
    "tags": []
   },
   "outputs": [],
   "source": [
    "!g.extension r.viewshed.cva"
   ]
  },
  {
   "cell_type": "markdown",
   "id": "fa56f72f-2776-41a8-95b1-3aae06d5413a",
   "metadata": {
    "tags": []
   },
   "source": [
    "Generate random points and perturb them. For both points set compute a cumulative viewshed and compare them:"
   ]
  },
  {
   "cell_type": "code",
   "execution_count": 99,
   "id": "274df993-d5b1-4fba-bbcb-ba365fa65279",
   "metadata": {
    "tags": []
   },
   "outputs": [],
   "source": [
    "# Generate random points and compute a cumulative viewshed\n",
    "gs.run_command(\"v.random\", output=\"random_view\", npoints=10, seed=4)\n",
    "gs.run_command(\"r.viewshed.cva\", input=\"elev_lid792_1m\", vector=\"random_view\", output=\"cumulative\")"
   ]
  },
  {
   "cell_type": "markdown",
   "id": "eadbd541-4b98-4f0a-8e8b-020c28bb6cba",
   "metadata": {},
   "source": [
    "#### *Question 5*\n",
    "\n",
    "Perturb the points with `v.perturb` with parameter = 20 and seed = 1. Computer the cummulative viewshed for the perturbed point and compare the results (in addition to mapping the viewsheds, `r.report` may be useful). What is the impact of error in point position on total viewshed area? "
   ]
  },
  {
   "cell_type": "code",
   "execution_count": 100,
   "id": "51ea0173-4c2c-4c8d-a1ee-85fb9672aa03",
   "metadata": {
    "tags": []
   },
   "outputs": [],
   "source": [
    "## ANSWER\n",
    "# Perturb points and compute cumulative viewshed\n",
    "gs.run_command(\"v.perturb\", input=\"random_view\", output=\"random_view_perturb\", parameters=20, seed=1)\n",
    "gs.run_command(\"r.viewshed.cva\", input=\"elev_lid792_1m\", vector=\"random_view_perturb\", output=\"cumulative_perturb\")"
   ]
  },
  {
   "cell_type": "markdown",
   "id": "578677d9-a613-4a95-ac20-ffe6dca0026b",
   "metadata": {
    "tags": []
   },
   "source": [
    "Additional commands you can use to simulate simulate point data in raster or vector representation:\n",
    "r.random, r.random.cells, r.sample.category, v.perturb, v.random, v.kcv "
   ]
  },
  {
   "cell_type": "markdown",
   "id": "c4bca617-62b1-4bce-9a7f-76ea7bfe466f",
   "metadata": {
    "tags": []
   },
   "source": [
    "### Additional Information\n",
    "* [Website](https://github.com/ncsu-geoforall-lab/geospatial-simulations-course)\n",
    "    \n",
    "* [Computing Help](https://help.ncsu.edu/)\n",
    "    \n",
    "* [GIST Home](https://geospatial.ncsu.edu/)\n",
    "    \n",
    "* [Disclaimer](https://www.ncsu.edu/policies/prr-disclaimer.php)\n",
    "    \n",
    "* [Accessibility](https://oit.ncsu.edu/itaccess)\n",
    "\n",
    "* License: 2018 [CC BY-SA](https://creativecommons.org/licenses/by-sa/4.0/)\n",
    "  \n",
    "* [NCSU GeoForAll Lab](https://geospatial.ncsu.edu/geoforall/)"
   ]
  }
 ],
 "metadata": {
  "kernelspec": {
   "display_name": "Python 3 (ipykernel)",
   "language": "python",
   "name": "python3"
  },
  "language_info": {
   "codemirror_mode": {
    "name": "ipython",
    "version": 3
   },
   "file_extension": ".py",
   "mimetype": "text/x-python",
   "name": "python",
   "nbconvert_exporter": "python",
   "pygments_lexer": "ipython3",
   "version": "3.9.5"
  }
 },
 "nbformat": 4,
 "nbformat_minor": 5
}
