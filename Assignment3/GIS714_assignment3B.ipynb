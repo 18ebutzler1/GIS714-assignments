{
 "cells": [
  {
   "cell_type": "markdown",
   "id": "05ec86f0-769a-407c-94b9-9e2bcaa35696",
   "metadata": {},
   "source": [
    "#### NCSU GIS 714: Geospatial Computation and Simulations\n",
    "\n",
    "## Surface Water Simulation: Surface water flow and erosion simulation\n",
    "\n",
    "In this assignment we explore simulation of spatial pattern of overland flow depth \n",
    "by running the SIMWE model which employs path sampling method to solve the shallow water flow equations.\n",
    "We also compute sediment transport and net erosion and deposition using the\n",
    "path sampling model.\n",
    "\n",
    "Contents:\n",
    "* Overland Flow, Depth and Discharge\n",
    "* Sediment Flow Rate, Erosion and Deposition\n",
    "\n",
    "Additional Resources:\n",
    "    \n",
    "* [\n",
    "GRASS GIS overview and manual](http://grass.osgeo.org/grass74/manuals/index.html)\n",
    "    \n",
    "* [GRASS book](http://www.grassbook.org/)\n",
    "* For more practice in watershed analysis see\n",
    "[Flow and watershed analysis in GIS582](http://ncsu-geoforall-lab.github.io/geospatial-modeling-course/grass/hydrology.html)\n",
    "\n",
    "Tip: While executing this notebook, you can launch the GUI in the command line interface with `g.gui`. As you create rasters here, they will appear in the GUI where you can render them, view other layers, etc."
   ]
  },
  {
   "cell_type": "markdown",
   "id": "0327c8e8-00ad-4b20-ae6f-029b745264d7",
   "metadata": {},
   "source": [
    "### Start GRASS GIS"
   ]
  },
  {
   "cell_type": "code",
   "execution_count": null,
   "id": "6d311c40-7f6f-4b29-8870-88ff58bd92cb",
   "metadata": {},
   "outputs": [],
   "source": [
    "import os\n",
    "import subprocess\n",
    "import sys\n",
    "\n",
    "# Ask GRASS GIS where its Python packages are.\n",
    "# FOR WINDOWS:\n",
    "# grass_call = \"grass80\"\n",
    "# shell_setting = True\n",
    "# FOR MAC/LINUX\n",
    "grass_call = \"grass\"\n",
    "shell_setting = False\n",
    "\n",
    "sys.path.append(\n",
    "    subprocess.check_output([grass_call, \"--config\", \"python_path\"], text=True, shell=shell_setting).strip()\n",
    ")\n",
    "\n",
    "# Import GRASS packages\n",
    "import grass.script as gs\n",
    "import grass.jupyter as gj\n",
    "\n",
    "# Start GRASS Session\n",
    "gj.init(\"../data\", \"nc_spm_08_grass7\", \"HW3_water_simulation\")"
   ]
  },
  {
   "cell_type": "markdown",
   "id": "4206b2a9-4ff7-4dfc-8c2b-bcc5214e0208",
   "metadata": {},
   "source": [
    "### Overland flow depth and discharge\n",
    "\n",
    "Set the computational region to a small agricultural watershed and define the 2m resolution:"
   ]
  },
  {
   "cell_type": "code",
   "execution_count": null,
   "id": "e53df8cd-6f23-4543-841b-abf5e7ac0608",
   "metadata": {},
   "outputs": [],
   "source": [
    "gs.run_command(\"g.region\", region=\"rural_1m\", res=2)"
   ]
  },
  {
   "cell_type": "markdown",
   "id": "c230264f-db1e-455f-b97c-42dddce29e7f",
   "metadata": {},
   "source": [
    "Calculate partial derivatives to define the gradient vector of elevation surface:"
   ]
  },
  {
   "cell_type": "code",
   "execution_count": null,
   "id": "07509c09-c56f-4e3a-afbf-397401569391",
   "metadata": {},
   "outputs": [],
   "source": [
    "gs.run_command(\"v.surf.rst\",\n",
    "               input=\"elev_lid792_bepts\",\n",
    "               elevation=\"elev_lid792_2m\", \n",
    "               slope=\"dx_2m\",\n",
    "               aspect=\"dy_2m\",\n",
    "               tension=15,\n",
    "               smooth=1.5,\n",
    "               npmin=150,\n",
    "               flags=\"d\")"
   ]
  },
  {
   "cell_type": "markdown",
   "id": "2d7430f8-bfc6-4159-8079-c284c06e7d84",
   "metadata": {},
   "source": [
    "Note that partial derivatives can be also computed using _[r.slope.aspect](https://grass.osgeo.org/grass74/manuals/r.slope.aspect.html)_."
   ]
  },
  {
   "cell_type": "markdown",
   "id": "8e843149-d100-4eab-bf3e-7eba5f96b7d9",
   "metadata": {},
   "source": [
    "#### *Question 1*\n",
    "\n",
    "Why do we need to compute elevation surface gradient vector for flow simulation? What does it control?"
   ]
  },
  {
   "cell_type": "code",
   "execution_count": null,
   "id": "106c6796-c878-4cae-ad25-ecdc440aa9ef",
   "metadata": {},
   "outputs": [],
   "source": [
    "#### Your Answer Here"
   ]
  },
  {
   "cell_type": "markdown",
   "id": "a506bda4-894c-40bd-9352-76d0f9849e00",
   "metadata": {},
   "source": [
    "Now, we compute spatial pattern of overland flow depth and discharge by running the SIMWE model implemented in the _[r.sim.water](https://grass.osgeo.org/grass74/manuals/r.sim.water.html)_ module - read the manual page to understand the parameters. We first use uniform rainfall excess, infiltration and land cover."
   ]
  },
  {
   "cell_type": "code",
   "execution_count": null,
   "id": "317d3e6c-1bb9-49fc-b758-6723010f413e",
   "metadata": {},
   "outputs": [],
   "source": [
    "gs.run_command(\"r.sim.water\",\n",
    "               elevation=\"elev_lid792_2m\",\n",
    "               dx=\"dx_2m\",\n",
    "               dy=\"dy_2m\", \n",
    "               rain_value=50,\n",
    "               infil_value=0,\n",
    "               man_value=0.05,\n",
    "               depth=\"wdp_2m\",\n",
    "               discharge=\"disch_2m\",\n",
    "               nwalkers=100000,\n",
    "               niterations=30,\n",
    "               output_step=2,\n",
    "               flags=\"t\")"
   ]
  },
  {
   "cell_type": "markdown",
   "id": "85b44ca0-a065-4a1f-a421-64db2e1bb0fc",
   "metadata": {},
   "source": [
    "Display the results: "
   ]
  },
  {
   "cell_type": "code",
   "execution_count": null,
   "id": "ddda5182-4c87-4556-8bf9-2a478e91a09d",
   "metadata": {},
   "outputs": [],
   "source": [
    "img = gj.GrassRenderer(use_region=True)\n",
    "img.d_rast(map=\"wdp_2m.30\")\n",
    "img.d_rast(map=\"disch_2m.30\")\n",
    "# Display map\n",
    "img.show()"
   ]
  },
  {
   "cell_type": "markdown",
   "id": "71a6a952-da8b-44b4-bb4f-385368af8697",
   "metadata": {
    "tags": []
   },
   "source": [
    "#### *Question 2*\n",
    "Comment on the resulting pattern - where is the water ponding and what is causing it at this location? Is this realistic?"
   ]
  },
  {
   "cell_type": "code",
   "execution_count": null,
   "id": "9f6fe40d-967d-4631-af4b-00a7032812ca",
   "metadata": {},
   "outputs": [],
   "source": [
    "#### Your Answer Here"
   ]
  },
  {
   "cell_type": "markdown",
   "id": "d901ddc3-024e-430c-bc58-5a58f982ee2c",
   "metadata": {},
   "source": [
    "### Peak runoff with preferential flow direction in the stream channel\n",
    "\n",
    "To prevent ponding in a depression along the stream channel, we can add a preferential flow direction along the stream. This would, for example, correct for a stream flowing through a culvert under the road."
   ]
  },
  {
   "cell_type": "markdown",
   "id": "24000688-7724-4a74-8bdd-141f8216c8ca",
   "metadata": {},
   "source": [
    "#### *Question 3*\n",
    "\n",
    "Add preferential flow to the model above by giving cells along the stream a slope angle of 2 degrees and a downstream flow direction. The `v.to.rast` module may be helpful here - especially since it can return line direction. The formula for converting a direction angle to dx and dy is:\n",
    "\n",
    "$ \\delta x = \\tan(\\mu)*\\cos(\\alpha) $\n",
    "\n",
    "$ \\delta y = \\tan(\\mu)*\\sin(\\alpha) $\n",
    "\n",
    "Where $\\mu$ is the slope and $\\alpha$ is the stream direction.\n",
    "\n",
    "Finally, `r.mapcalc` or GRASS raster algebra has functions `if` and `isnull` which may be useful for combining the dx and dy rasters derived from the DEM and stream."
   ]
  },
  {
   "cell_type": "code",
   "execution_count": null,
   "id": "9def5a04-561f-48f7-9252-db681d691d82",
   "metadata": {},
   "outputs": [],
   "source": [
    "### Your Answer Here"
   ]
  },
  {
   "cell_type": "markdown",
   "id": "d64f48a5-790f-4221-967e-d4c28806066c",
   "metadata": {},
   "source": [
    "#### Runoff for spatially variable landcover and rainfall excess\n",
    "\n",
    "We can continue to improve the model above by accounting for spatially varying landcover and rainfall. In this section, we compute runoff for spatially variable landcover (represented by spatially variable Mannings coefficient) and rainfall excess (rainfall intensity - infiltration rate).\n",
    "\n",
    "\n",
    "We will use variable Mannings coefficient defined by reclassifying land cover class. Find out the land use categories in the map landcover_1m:"
   ]
  },
  {
   "cell_type": "code",
   "execution_count": null,
   "id": "df18c91b-a407-4444-b5e3-4746cae377db",
   "metadata": {},
   "outputs": [],
   "source": [
    "print(gs.read_command(\"r.category\", map=\"landcover_1m\"))"
   ]
  },
  {
   "cell_type": "markdown",
   "id": "c899f54c-5b02-4960-98b0-0b37609606d9",
   "metadata": {},
   "source": [
    "Let's also render a map of landcover:"
   ]
  },
  {
   "cell_type": "code",
   "execution_count": null,
   "id": "bbc32e0f-4c61-4547-8a6b-10d7e871bdb5",
   "metadata": {},
   "outputs": [],
   "source": [
    "# Create GrassRenderer instance\n",
    "img = gj.GrassRenderer(use_region=True)\n",
    "img.d_rast(map=\"landcover_1m\")\n",
    "img.d_legend(raster=\"landcover_1m\", at=(55, 95, 80, 84), flags=\"b\")\n",
    "# Display map\n",
    "img.show()   "
   ]
  },
  {
   "cell_type": "markdown",
   "id": "3a2e44bb-7a68-487b-aa95-45fa0dceeefa",
   "metadata": {},
   "source": [
    "Next, we assign each category a Mannings roughness coefficient (published in literature) by recoding the landcover map using the _[r.recode](https://grass.osgeo.org/grass74/manuals/r.recode.html)_ module and reclassification rules stored in \n",
    "[`land_to_mannings.txt`](./land_to_mannings.txt):"
   ]
  },
  {
   "cell_type": "code",
   "execution_count": null,
   "id": "ad6c5be5-dd48-4fbd-a6e6-9fbc5befcec0",
   "metadata": {},
   "outputs": [],
   "source": [
    "gs.run_command(\"r.recode\", input=\"landcover_1m\", output=\"mancover_2m\", rules=\"land_to_mannings.txt\")"
   ]
  },
  {
   "cell_type": "markdown",
   "id": "09b34fae-ddf4-4c13-a181-56dec164c89a",
   "metadata": {},
   "source": [
    "Similarly, we will create raster with spatially variable rainfall excess rates based on the land cover classes. We use [`land_to_rain.txt`](./land_to_rain.txt) to specify the rates for individual classes. Again, we use the file as rules for the _[r.recode](https://grass.osgeo.org/grass74/manuals/r.recode.html)_ module."
   ]
  },
  {
   "cell_type": "code",
   "execution_count": null,
   "id": "66709abf-b11f-4226-b6a5-c13b82ca8eea",
   "metadata": {},
   "outputs": [],
   "source": [
    "gs.run_command(\"r.recode\", input=\"landcover_1m\", output=\"raincover_2m\", rules=\"land_to_rain.txt\")"
   ]
  },
  {
   "cell_type": "markdown",
   "id": "62d3f327-32c1-4772-9604-be04175cf74b",
   "metadata": {},
   "source": [
    "#### *Question 4*\n",
    "\n",
    "Modify the following code so that it uses the dx and dy rasters from Question 2 with preferential stream flow and display the results."
   ]
  },
  {
   "cell_type": "code",
   "execution_count": null,
   "id": "85911df6-e917-4b12-af0a-a1c177ba010f",
   "metadata": {},
   "outputs": [],
   "source": [
    "#### Your Answer Here"
   ]
  },
  {
   "cell_type": "markdown",
   "id": "badb75a2-fb0d-4080-be73-277f7da75109",
   "metadata": {
    "tags": []
   },
   "source": [
    "#### *Question 5*\n",
    "Comment on the resulting pattern - how is the flow depth related to the landcover?\n",
    "Which landcover holds most water?"
   ]
  },
  {
   "cell_type": "code",
   "execution_count": null,
   "id": "db1eb201-7c50-4b95-aac4-4a22535f5ea3",
   "metadata": {},
   "outputs": [],
   "source": [
    "#### Your Answer Here"
   ]
  },
  {
   "cell_type": "markdown",
   "id": "16c5e32b-5143-48c5-8968-eddac678582b",
   "metadata": {},
   "source": [
    "### Sediment flow rate, erosion and deposition\n",
    "\n",
    "Compute sediment flow rate and net erosion/deposition using sediment\n",
    "transport part of the SIMWE model implemented in the\n",
    "the _[r.sim.sediment](https://grass.osgeo.org/grass74/manuals/r.sim.sediment.html)_ module.\n",
    "To make the computations faster, set region just to the upper part of\n",
    "the watershed:"
   ]
  },
  {
   "cell_type": "code",
   "execution_count": null,
   "id": "43bc4fcb-4713-4591-be1d-9dd12704b0ed",
   "metadata": {},
   "outputs": [],
   "source": [
    "gs.run_command(\"g.region\", s=\"s+290\")"
   ]
  },
  {
   "cell_type": "markdown",
   "id": "811e7840-0ee4-4375-8dce-faa34eb62e44",
   "metadata": {},
   "source": [
    "Compute input transport capacity and detachment coefficient maps:"
   ]
  },
  {
   "cell_type": "code",
   "execution_count": null,
   "id": "2722e1b1-2cbc-42d1-9ab0-946b5c948905",
   "metadata": {},
   "outputs": [],
   "source": [
    "gs.mapcalc(\"tranin = 0.001\")\n",
    "gs.mapcalc(\"detin = 0.001\")"
   ]
  },
  {
   "cell_type": "markdown",
   "id": "aafbff5e-c60b-4bc3-8593-a16f51b92124",
   "metadata": {},
   "source": [
    "Compute input critical shear stress:"
   ]
  },
  {
   "cell_type": "code",
   "execution_count": null,
   "id": "7b3cd069-edf4-45e8-a957-59f47b1a98ca",
   "metadata": {},
   "outputs": [],
   "source": [
    "gs.mapcalc(\"tauin = 0.01\")"
   ]
  },
  {
   "cell_type": "markdown",
   "id": "b538a9d0-cfe2-41a9-8949-0a511a68d1e9",
   "metadata": {},
   "source": [
    "Run the model using the last depth from previous run:"
   ]
  },
  {
   "cell_type": "code",
   "execution_count": null,
   "id": "048ba645-ccd9-4c5e-862b-e9300b32e4c9",
   "metadata": {},
   "outputs": [],
   "source": [
    "gs.run_command(\"g.copy\", rast=\"wdp_2m.30,wdp_2m\")\n",
    "gs.run_command(\"r.sim.sediment\",\n",
    "               elevation=\"elev_lid792_2m\",\n",
    "               dx=\"dx_2m\",\n",
    "               dy=\"dy_2m\",\n",
    "               water_depth=\"wdp_2m\",\n",
    "               detachment_coeff=\"detin\",\n",
    "               transport_coeff=\"tranin\",\n",
    "               shear_stress=\"tauin\",\n",
    "               man_value=0.05,\n",
    "               nwalkers=1000000,\n",
    "               niterations=30,\n",
    "               transport_capacity=\"tcapacity\",\n",
    "               tlimit_erosion_deposition=\"erdepmax\",\n",
    "               sediment_flux=\"sedflow\",\n",
    "               erosion_deposition=\"erdepsimwe\")"
   ]
  },
  {
   "cell_type": "markdown",
   "id": "6d431ca7-34c1-48a9-baa8-746e744743de",
   "metadata": {},
   "source": [
    "Display the results:"
   ]
  },
  {
   "cell_type": "code",
   "execution_count": null,
   "id": "ddf5f1e0-bf91-4518-bf26-9b06c8945d34",
   "metadata": {},
   "outputs": [],
   "source": [
    "# Create Interactive Map\n",
    "fig = gj.InteractiveMap(use_region=True)\n",
    "# Add raster, vector and layer control to map\n",
    "fig.add_raster(\"tcapacity\", opacity=1.0)\n",
    "fig.add_raster(\"erdepmax\", opacity=1.0)\n",
    "fig.add_raster(\"sedflow\", opacity=1.0)\n",
    "fig.add_raster(\"erdepsimwe\", opacity=1.0)\n",
    "fig.add_layer_control(position = \"bottomright\")\n",
    "# Display map\n",
    "fig.show()"
   ]
  },
  {
   "cell_type": "markdown",
   "id": "34ee1a53-26a4-4107-b68e-3076344cd79e",
   "metadata": {},
   "source": [
    "#### *Question 6*\n",
    "\n",
    "Describe the results shown on the map. What is shown in each of the layers?"
   ]
  },
  {
   "cell_type": "code",
   "execution_count": null,
   "id": "6b01c7e1-dc7a-4f6c-88a4-fe6843510932",
   "metadata": {},
   "outputs": [],
   "source": [
    "#### Your Answer Here."
   ]
  },
  {
   "cell_type": "markdown",
   "id": "2ee179ea-a688-4c4d-91c1-2dcc72aae793",
   "metadata": {},
   "source": [
    "### Additional Information\n",
    "* [Website](https://github.com/ncsu-geoforall-lab/geospatial-simulations-course)\n",
    "    \n",
    "* [Computing Help](https://help.ncsu.edu/)\n",
    "    \n",
    "* [GIST Home](https://geospatial.ncsu.edu/)\n",
    "    \n",
    "* [Disclaimer](https://www.ncsu.edu/policies/prr-disclaimer.php)\n",
    "    \n",
    "* [Accessibility](https://oit.ncsu.edu/itaccess)\n",
    "\n",
    "* License: 2018 [CC BY-SA](https://creativecommons.org/licenses/by-sa/4.0/)\n",
    "  \n",
    "* [NCSU GeoForAll Lab](https://geospatial.ncsu.edu/geoforall/)"
   ]
  },
  {
   "cell_type": "code",
   "execution_count": null,
   "id": "4a5da77d-6d3a-4252-adfc-7ac081364f00",
   "metadata": {},
   "outputs": [],
   "source": []
  }
 ],
 "metadata": {
  "kernelspec": {
   "display_name": "Python 3 (ipykernel)",
   "language": "python",
   "name": "python3"
  },
  "language_info": {
   "codemirror_mode": {
    "name": "ipython",
    "version": 3
   },
   "file_extension": ".py",
   "mimetype": "text/x-python",
   "name": "python",
   "nbconvert_exporter": "python",
   "pygments_lexer": "ipython3",
   "version": "3.9.5"
  }
 },
 "nbformat": 4,
 "nbformat_minor": 5
}
