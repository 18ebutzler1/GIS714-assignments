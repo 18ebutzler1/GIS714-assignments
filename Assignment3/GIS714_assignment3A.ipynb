{
 "cells": [
  {
   "cell_type": "markdown",
   "id": "b0e842e2-33b6-4acb-b3c5-ab4ccfbf6306",
   "metadata": {},
   "source": [
    "#### NCSU GIS 714: Geospatial Computation and Simulations\n",
    "\n",
    "## Surface Water Simulation: Introduction to Surface Water Simulation\n",
    "\n",
    "Contents:\n",
    "* Compare flow accumulation derived by different algorithms\n",
    "* Create a map of flooded area\n",
    "* Estimate inundation extent using HAND methodology\n",
    "\n",
    "Additional Resources:\n",
    "    \n",
    "* [\n",
    "GRASS GIS overview and manual](http://grass.osgeo.org/grass74/manuals/index.html)\n",
    "    \n",
    "* [GRASS book](http://www.grassbook.org/)\n",
    "* For more practice in watershed analysis see\n",
    "[Flow and watershed analysis in GIS582](http://ncsu-geoforall-lab.github.io/geospatial-modeling-course/grass/hydrology.html)\n",
    "\n",
    "Tip: While executing this notebook, you can launch the GUI in the command line interface with `g.gui`. As you create rasters here, they will appear in the GUI where you can render them, view other layers, etc."
   ]
  },
  {
   "cell_type": "markdown",
   "id": "c7d4d539-b74e-4575-b770-76949373fd03",
   "metadata": {},
   "source": [
    "#### Start GRASS GIS"
   ]
  },
  {
   "cell_type": "code",
   "execution_count": null,
   "id": "50fcda5b-48bd-4af2-a496-0e7a97f31412",
   "metadata": {},
   "outputs": [],
   "source": [
    "import os\n",
    "import subprocess\n",
    "import sys\n",
    "\n",
    "# Ask GRASS GIS where its Python packages are.\n",
    "# FOR WINDOWS:\n",
    "# grass_call = \"grass80\"\n",
    "# shell_setting = True\n",
    "# FOR MAC/LINUX\n",
    "grass_call = \"grass\"\n",
    "shell_setting = False\n",
    "\n",
    "sys.path.append(\n",
    "    subprocess.check_output([grass_call, \"--config\", \"python_path\"], text=True, shell=shell_setting).strip()\n",
    ")\n",
    "\n",
    "# Import GRASS packages\n",
    "import grass.script as gs\n",
    "import grass.jupyter as gj\n",
    "\n",
    "# Start GRASS Session\n",
    "gj.init(\"../data\", \"nc_spm_08_grass7\", \"PERMANENT\")\n",
    "\n",
    "# Make a new mapset for this assignment\n",
    "gs.run_command(\"g.mapset\", mapset=\"HW3_water_simulation\", location=\"nc_spm_08_grass7\", flags=\"c\")"
   ]
  },
  {
   "cell_type": "markdown",
   "id": "c1f29471-00ee-48a0-b840-b81942823342",
   "metadata": {},
   "source": [
    "### Compare flow accumulation derived by different algorithms\n",
    "\n",
    "First, we'll set region to the high resolution study area and render it."
   ]
  },
  {
   "cell_type": "code",
   "execution_count": null,
   "id": "5978dd51-09cc-49a3-a51d-43faaddfdef6",
   "metadata": {},
   "outputs": [],
   "source": [
    "# Set region to the high resolution study area\n",
    "gs.run_command(\"g.region\", region=\"rural_1m\")\n",
    "\n",
    "# Create GrassRenderer instance\n",
    "gs.run_command(\"r.colors\", map=\"elevation\", co=\"elevation\")\n",
    "img = gj.GrassRenderer(use_region=True)\n",
    "img.d_rast(map=\"elevation\")\n",
    "img.d_legend(raster=\"elevation\", at=(55, 95, 80, 84), flags=\"b\")\n",
    "# Display map\n",
    "img.show()"
   ]
  },
  {
   "cell_type": "markdown",
   "id": "542d3a51-cbeb-4e48-b575-579d587bcdc4",
   "metadata": {},
   "source": [
    "Then, we run least cost path flow routing with single flow direction (SFD, D8)."
   ]
  },
  {
   "cell_type": "code",
   "execution_count": null,
   "id": "b97d07ad-fda3-443a-a481-3e5178e548f8",
   "metadata": {},
   "outputs": [],
   "source": [
    "gs.run_command(\"r.watershed\", elevation=\"elev_lid792_1m\", threshold=5000, accumulation=\"accum_mfd5K\", drainage=\"draindir_5K\", basin=\"basin_mfd5K\", flags=\"a\")"
   ]
  },
  {
   "cell_type": "markdown",
   "id": "3e9f1a7e-067d-45ea-a6b1-00505d4c2a95",
   "metadata": {
    "tags": []
   },
   "source": [
    "#### *Question 1*\n",
    "    \n",
    "Repeat the least cost path flow routing above but with multiple flow direction (MFD). (hint: refer to the GRASS manual)"
   ]
  },
  {
   "cell_type": "code",
   "execution_count": null,
   "id": "cd4c1f2b-c96f-488a-add4-9f6285adec2c",
   "metadata": {},
   "outputs": [],
   "source": [
    "### Your Answer Here"
   ]
  },
  {
   "cell_type": "markdown",
   "id": "97f88899-40b5-4dc8-9157-21ae5b06668c",
   "metadata": {},
   "source": [
    "#### *Question 2*\n",
    "    \n",
    "An alternative to MFD and SFD is vector-based routing (D-inf). In GRASS, this is implemented with `r.flow`. Compute flowlines, flow length and flow accumulation with `r.flow`. Then extract the streams from each of the three flow accumulation rasters by setting cells >100 to 1 and <100 to null(). Thin the result to one-cell width and convert to a vector so that the streams are represented by lines. Visually compare the resulting stream paths, including the official Wake County streams found in `PERMANENT`."
   ]
  },
  {
   "cell_type": "code",
   "execution_count": null,
   "id": "d08d03bf-99bc-41a9-bee6-d7fcbecd1110",
   "metadata": {},
   "outputs": [],
   "source": [
    "#### Your Answer Here"
   ]
  },
  {
   "cell_type": "markdown",
   "id": "77055a24-a224-472b-ac5e-10922ac46527",
   "metadata": {},
   "source": [
    "#### *Question 3*\n",
    "\n",
    "Compare the values of flowaccumulation from all your runs, including the ones from data simulation \n",
    "assignment, in outlet with coordinates 638845.52,220085.26. (hint, use r.what). Discuss the result."
   ]
  },
  {
   "cell_type": "code",
   "execution_count": null,
   "id": "c45970c2-115c-4a99-9b90-88163a35749a",
   "metadata": {},
   "outputs": [],
   "source": [
    "#### Your Answer Here"
   ]
  },
  {
   "cell_type": "markdown",
   "id": "a94eb658-8d5e-45e0-a6db-b54237a38506",
   "metadata": {},
   "source": [
    "### Create a map of flooded area\n",
    "Create a map of flooded area for a given water level and a seed point:"
   ]
  },
  {
   "cell_type": "code",
   "execution_count": null,
   "id": "33d815e6-566a-4fac-9c40-d3a741937619",
   "metadata": {},
   "outputs": [],
   "source": [
    "gs.run_command(\"r.lake\", elevation=\"elev_lid792_1m\", water_level=113.5, lake=\"flood1\", coordinates=\"638728,220278\")\n",
    "\n",
    "# See results\n",
    "img = gj.GrassRenderer(use_region=True)\n",
    "img.d_rast(map=\"elev_lid792_1m\")\n",
    "img.d_rast(map=\"flood1\")\n",
    "# Display map\n",
    "img.show()"
   ]
  },
  {
   "cell_type": "markdown",
   "id": "b46f7388-6f33-496b-bc36-de321d370641",
   "metadata": {},
   "source": [
    "#### *Question 4*\n",
    "\n",
    "Increase water level to 113.7 m and 114.0 m and create flooded area maps at these two levels."
   ]
  },
  {
   "cell_type": "code",
   "execution_count": null,
   "id": "f0fdae76-444c-476e-b03c-ec2a73320c62",
   "metadata": {},
   "outputs": [],
   "source": [
    "#### Your Answer Here"
   ]
  },
  {
   "cell_type": "markdown",
   "id": "521ecedb-4993-42d6-9342-239f17dab323",
   "metadata": {},
   "source": [
    "### Hydrology: Estimating inundation extent using HAND methodology\n",
    "\n",
    "We will use r.stream.distance and r.lake.series are addons and we need to install them first:"
   ]
  },
  {
   "cell_type": "code",
   "execution_count": null,
   "id": "c67361ec-432d-4307-8368-acf603ecb099",
   "metadata": {},
   "outputs": [],
   "source": [
    "#!g.extension r.stream.distance\n",
    "#!g.extension r.lake.series"
   ]
  },
  {
   "cell_type": "markdown",
   "id": "f378df22-cdf1-42e9-8448-64dd3d17dfed",
   "metadata": {},
   "source": [
    "We will estimate inundation extent using Height Above Nearest Drainage methodology (A.D. Nobre, 2011). We will compute HAND terrain model representing the differences in elevation between each grid cell and the elevations of the flowpath-connected downslope grid cell where the flow enters the channel.\n",
    "\n",
    "First we compute the flow accumulation, drainage and streams (with threshold value of 100000). We convert the streams to vector for better visualization."
   ]
  },
  {
   "cell_type": "code",
   "execution_count": null,
   "id": "1284f257-6fc0-4774-a705-1c35bf28f59a",
   "metadata": {},
   "outputs": [],
   "source": [
    "gs.run_command(\"g.region\", raster=\"elevation\")\n",
    "gs.run_command(\"r.watershed\", elevation=\"elevation\", accumulation=\"flowacc\", drainage=\"drainage\", stream=\"streams\", threshold=100000)\n",
    "gs.run_command(\"r.to.vect\", input=\"streams\", output=\"streams\", type=\"line\")"
   ]
  },
  {
   "cell_type": "markdown",
   "id": "17f00800-548d-40fe-b58b-72d9285813fe",
   "metadata": {},
   "source": [
    "Now we use r.stream.distance with output parameter difference to compute new raster where each cell is the elevation difference between the cell and the the cell on the stream where the cell drains."
   ]
  },
  {
   "cell_type": "code",
   "execution_count": null,
   "id": "8aaeb3e9-5678-452e-8073-0ef513db8036",
   "metadata": {},
   "outputs": [],
   "source": [
    "gs.run_command(\"r.stream.distance\", stream_rast=\"streams\", direction=\"drainage\", elevation=\"elevation\", method=\"downstream\", difference=\"above_stream\")"
   ]
  },
  {
   "cell_type": "markdown",
   "id": "ddc31de5-cd6b-4a54-b89c-511ab5faef25",
   "metadata": {},
   "source": [
    "Before we compute the inundation, we will look at how r.lake works. We compute a lake from specified coordinate and water level:"
   ]
  },
  {
   "cell_type": "code",
   "execution_count": null,
   "id": "96056bdd-a888-4b94-9f38-38e96182ac46",
   "metadata": {},
   "outputs": [],
   "source": [
    "gs.run_command(\"r.lake\", elevation=\"elevation\", water_level=90, lake=\"lake\", coordinates=\"637877,218475\")\n",
    "\n",
    "# See results\n",
    "img = gj.GrassRenderer(use_region=True)\n",
    "img.d_rast(map=\"elevation\")\n",
    "img.d_rast(map=\"lake\")\n",
    "img.d_legend(raster=\"elevation\", at=(55, 95, 80, 84), flags=\"b\")\n",
    "# Display map\n",
    "img.show()"
   ]
  },
  {
   "cell_type": "markdown",
   "id": "ef8a3335-3783-48f0-942e-55cddeda58d6",
   "metadata": {},
   "source": [
    "Now instead of elevation raster we use the HAND raster to simulate 5-meter inundation and as the seed we specify the entire stream."
   ]
  },
  {
   "cell_type": "code",
   "execution_count": null,
   "id": "0ebcfa83-af75-4836-b778-e3eb076997db",
   "metadata": {},
   "outputs": [],
   "source": [
    "gs.run_command(\"r.lake\", elevation=\"above_stream\", water_level=5, lake=\"flood\", seed=\"streams\")"
   ]
  },
  {
   "cell_type": "markdown",
   "id": "0b8d6483-7154-44dd-8816-5b842d2aa85d",
   "metadata": {},
   "source": [
    "With addon r.lake.series we can create a series of inundation maps with rising water levels:"
   ]
  },
  {
   "cell_type": "code",
   "execution_count": null,
   "id": "8a8f3236-0009-44a4-9430-2a72b7e13513",
   "metadata": {},
   "outputs": [],
   "source": [
    "gs.run_command(\"r.lake.series\", elevation=\"above_stream\", start_water_level=0, end_water_level=5, water_level_step=0.5, \n",
    "               output=\"inundation\", seed_raster=\"streams\")"
   ]
  },
  {
   "cell_type": "markdown",
   "id": "4a02cff8-e899-4527-b58d-a64fb1a11fc9",
   "metadata": {},
   "source": [
    "r.lake.series creates a space-time dataset. We can use temporal modules to further work with the data. For example, we could further compute the volume and extent of flood water using t.rast.univar:"
   ]
  },
  {
   "cell_type": "code",
   "execution_count": null,
   "id": "fa449b54-1faa-4869-a76f-6ea15d7da47f",
   "metadata": {},
   "outputs": [],
   "source": [
    "print(gs.read_command(\"t.rast.univar\", input=\"inundation\", separator=\"comma\"))"
   ]
  },
  {
   "cell_type": "markdown",
   "id": "a84ee8c9-b0b3-406d-af75-3549370a9cca",
   "metadata": {},
   "source": [
    "Now we will export the results from r.lake.series so that we can display the animated series of inundation maps with rising water levels in MapBox GL. To do this we must export each raster as a png and get the bounding box of the computational region in WGS84. First download r.out.leaflet from [https://github.com/ncsu-geoforall-lab/](https://github.com/ncsu-geoforall-lab/) or clone the plugin using git."
   ]
  },
  {
   "cell_type": "code",
   "execution_count": null,
   "id": "57401fe9-18b3-4b05-8861-aba27237497b",
   "metadata": {},
   "outputs": [],
   "source": [
    "!git clone https://github.com/ncsu-geoforall-lab/grass-web-publishing.git"
   ]
  },
  {
   "cell_type": "markdown",
   "id": "96d95843-1c1d-4316-89c4-b1e648785b6d",
   "metadata": {},
   "source": [
    "Next, find r.out.leaflet.py inside of the grass-web-publishing directory you just downloaded. Now in the GRASS terminal we will run the r.out.leaflet.py python script."
   ]
  },
  {
   "cell_type": "code",
   "execution_count": null,
   "id": "0cc1be17-8d3e-49ab-8390-d0c15fa20b83",
   "metadata": {},
   "outputs": [],
   "source": [
    "!mkdir images\n",
    "!python3 grass-web-publishing/r.out.leaflet/r.out.leaflet.py raster=\"inundation_0.0,inundation_0.5,inundation_1.0,inundation_1.5,inundation_2.0,inundation_2.5,inundation_3.0,inundation_3.5,inundation_4.0,inundation_4.5,inundation_5.0\" output=\"./images\""
   ]
  },
  {
   "cell_type": "markdown",
   "id": "9bbd83c7-b2cd-4993-a2c7-7bbcd89f0a90",
   "metadata": {},
   "source": [
    "You will now see a few new files in the images directory\n",
    "\n",
    "* data_file.csv    \n",
    "*  data_file.js\n",
    "* New pngs\n",
    "\n",
    "\n",
    "To add the newly output pngs to a web map continue by following the instructions found in the next tutorial here:\n",
    "\n",
    "[https://github.com/ncsu-geoforall-lab/grass-mapbox-tutorial](https://github.com/ncsu-geoforall-lab/grass-mapbox-tutorial)"
   ]
  },
  {
   "cell_type": "markdown",
   "id": "5f79224b-1e8f-4e6a-9340-95ea580204da",
   "metadata": {},
   "source": [
    "### Additional Information\n",
    "* [Website](https://github.com/ncsu-geoforall-lab/geospatial-simulations-course)\n",
    "    \n",
    "* [Computing Help](https://help.ncsu.edu/)\n",
    "    \n",
    "* [GIST Home](https://geospatial.ncsu.edu/)\n",
    "    \n",
    "* [Disclaimer](https://www.ncsu.edu/policies/prr-disclaimer.php)\n",
    "    \n",
    "* [Accessibility](https://oit.ncsu.edu/itaccess)\n",
    "\n",
    "* License: 2018 [CC BY-SA](https://creativecommons.org/licenses/by-sa/4.0/)\n",
    "  \n",
    "* [NCSU GeoForAll Lab](https://geospatial.ncsu.edu/geoforall/)"
   ]
  },
  {
   "cell_type": "code",
   "execution_count": null,
   "id": "00eababc-c0c5-4feb-bdb4-e47965fb61f3",
   "metadata": {},
   "outputs": [],
   "source": []
  }
 ],
 "metadata": {
  "kernelspec": {
   "display_name": "Python 3 (ipykernel)",
   "language": "python",
   "name": "python3"
  },
  "language_info": {
   "codemirror_mode": {
    "name": "ipython",
    "version": 3
   },
   "file_extension": ".py",
   "mimetype": "text/x-python",
   "name": "python",
   "nbconvert_exporter": "python",
   "pygments_lexer": "ipython3",
   "version": "3.9.5"
  }
 },
 "nbformat": 4,
 "nbformat_minor": 5
}
